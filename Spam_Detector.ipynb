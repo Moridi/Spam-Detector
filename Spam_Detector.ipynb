{
  "nbformat": 4,
  "nbformat_minor": 0,
  "metadata": {
    "colab": {
      "name": "Spam Detector.ipynb",
      "version": "0.3.2",
      "provenance": [],
      "collapsed_sections": [
        "iriYd1Vr3t8l"
      ],
      "include_colab_link": true
    },
    "kernelspec": {
      "name": "python3",
      "display_name": "Python 3"
    }
  },
  "cells": [
    {
      "cell_type": "markdown",
      "metadata": {
        "id": "view-in-github",
        "colab_type": "text"
      },
      "source": [
        "<a href=\"https://colab.research.google.com/github/Moridi/Spam-Detector/blob/master/Spam_Detector.ipynb\" target=\"_parent\"><img src=\"https://colab.research.google.com/assets/colab-badge.svg\" alt=\"Open In Colab\"/></a>"
      ]
    },
    {
      "cell_type": "markdown",
      "metadata": {
        "id": "iriYd1Vr3t8l",
        "colab_type": "text"
      },
      "source": [
        "## Getting the Dataset"
      ]
    },
    {
      "cell_type": "code",
      "metadata": {
        "id": "XuhWF9SY5DIn",
        "colab_type": "code",
        "colab": {}
      },
      "source": [
        "import os\n",
        "import tarfile\n",
        "from six.moves import urllib\n",
        "\n",
        "def fetch_data(kind):\n",
        "  spam_url = \"http://spamassassin.apache.org/old/publiccorpus/\" + \\\n",
        "      \"20030228_\" + kind + \".tar.bz2\"\n",
        "\n",
        "  spam_path = os.path.join(kind + \".tar.bz2\")\n",
        "\n",
        "  urllib.request.urlretrieve(spam_url, spam_path)\n",
        "\n",
        "  spam_tgz = tarfile.open(kind + \".tar.bz2\")  \n",
        "  spam_tgz.extractall()\n",
        "  spam_tgz.close()"
      ],
      "execution_count": 0,
      "outputs": []
    },
    {
      "cell_type": "code",
      "metadata": {
        "id": "UCSQIRvF9H7R",
        "colab_type": "code",
        "colab": {}
      },
      "source": [
        "fetch_data(\"spam\")\n",
        "fetch_data(\"easy_ham\")"
      ],
      "execution_count": 0,
      "outputs": []
    },
    {
      "cell_type": "code",
      "metadata": {
        "id": "MS4KczGU_grE",
        "colab_type": "code",
        "colab": {}
      },
      "source": [
        "import email\n",
        "\n",
        "def parseEmail(dirName, fileName):\n",
        "  with open(os.path.join(dirName, fileName), \"rb\") as f:\n",
        "    return email.parser.BytesParser().parse(f)"
      ],
      "execution_count": 0,
      "outputs": []
    },
    {
      "cell_type": "code",
      "metadata": {
        "id": "36W8G-mdBzA5",
        "colab_type": "code",
        "colab": {}
      },
      "source": [
        "spamList = [parseEmail(\"spam\", fileName)\\\n",
        "    for fileName in os.listdir(\"spam\")]\n",
        "hamList = [parseEmail(\"easy_ham\", fileName)\\\n",
        "    for fileName in os.listdir(\"easy_ham\")]"
      ],
      "execution_count": 0,
      "outputs": []
    },
    {
      "cell_type": "code",
      "metadata": {
        "id": "N5td0JvsEv8X",
        "colab_type": "code",
        "colab": {}
      },
      "source": [
        "def initiateDataset(mailList):\n",
        "  global dataset\n",
        "\n",
        "  for i, x in enumerate(mailList):\n",
        "    for y in x.keys():\n",
        "      dataset[y] = []"
      ],
      "execution_count": 0,
      "outputs": []
    },
    {
      "cell_type": "code",
      "metadata": {
        "id": "IiQPFm6SGtzt",
        "colab_type": "code",
        "colab": {}
      },
      "source": [
        "def addToDataset(mailList, isSpam):\n",
        "  for x in mailList:\n",
        "    for y in dataset.keys():\n",
        "      if (y in x.keys()):\n",
        "        dataset[y].append(x[y])\n",
        "      else:\n",
        "        dataset[y].append(\"\")\n",
        "    \n",
        "    dataset[\"Is-Spam\"][-1] = isSpam\n",
        "    dataset[\"Payload\"][-1] = x.get_payload()"
      ],
      "execution_count": 0,
      "outputs": []
    },
    {
      "cell_type": "code",
      "metadata": {
        "id": "Mi6pAI1YFMIj",
        "colab_type": "code",
        "colab": {}
      },
      "source": [
        "def removeInappropriateAttributes():\n",
        "  \n",
        "  upperBound = 1000\n",
        "  fieldException = [\"In-Reply-To\"]\n",
        "  inappropriateAttr = []    \n",
        "\n",
        "  for x in dataset.keys():\n",
        "    counter = 0\n",
        "    for i, y in enumerate(dataset[x]):\n",
        "      if (y == \"\"):\n",
        "        dataset[x][i] = np.nan\n",
        "        counter += 1\n",
        "\n",
        "    if (counter > upperBound \\\n",
        "        and (x not in fieldException)):\n",
        "      inappropriateAttr.append(x)\n",
        "\n",
        "  for x in inappropriateAttr:\n",
        "    del dataset[x]\n"
      ],
      "execution_count": 0,
      "outputs": []
    },
    {
      "cell_type": "code",
      "metadata": {
        "id": "Xlzb2UmNSKFZ",
        "colab_type": "code",
        "outputId": "2ea3f934-0734-41bd-dc6c-582cf7f4b3e2",
        "colab": {
          "base_uri": "https://localhost:8080/",
          "height": 0
        }
      },
      "source": [
        "import pandas as pd\n",
        "import numpy as np\n",
        "\n",
        "dataset = {\"Is-Spam\" : [], \"Payload\" : []}\n",
        "\n",
        "initiateDataset(spamList)\n",
        "initiateDataset(hamList)\n",
        "addToDataset(spamList, isSpam=True)\n",
        "addToDataset(hamList, isSpam=False)\n",
        "\n",
        "removeInappropriateAttributes()\n",
        "\n",
        "pandaDataset = pd.DataFrame(dataset, columns=dataset.keys())\n",
        "pandaDataset.head()\n",
        "\n",
        "pandaDataset.isna().sum()"
      ],
      "execution_count": 8,
      "outputs": [
        {
          "output_type": "execute_result",
          "data": {
            "text/plain": [
              "Is-Spam            0\n",
              "Payload            0\n",
              "Return-Path        8\n",
              "Delivered-To     163\n",
              "Received         137\n",
              "From               2\n",
              "To               158\n",
              "Subject            4\n",
              "Content-Type     422\n",
              "Date               2\n",
              "Message-Id       214\n",
              "In-Reply-To     1983\n",
              "dtype: int64"
            ]
          },
          "metadata": {
            "tags": []
          },
          "execution_count": 8
        }
      ]
    },
    {
      "cell_type": "markdown",
      "metadata": {
        "id": "li3q-DWh5-Au",
        "colab_type": "text"
      },
      "source": [
        "## Prepare Train Dataset"
      ]
    },
    {
      "cell_type": "code",
      "metadata": {
        "id": "NfiP_9acLrlm",
        "colab_type": "code",
        "colab": {}
      },
      "source": [
        "from sklearn.model_selection import StratifiedShuffleSplit\n",
        "\n",
        "split = StratifiedShuffleSplit(n_splits=1, test_size=0.2, random_state=42)\n",
        "for trainIndex, testIndex in split.split(\\\n",
        "    pandaDataset, pandaDataset[\"Is-Spam\"]):\n",
        "  \n",
        "  stratTrainSet = pandaDataset.loc[trainIndex]\n",
        "  stratTestSet = pandaDataset.loc[testIndex]\n",
        "\n",
        "trainSet = stratTrainSet.drop(\"Is-Spam\", axis=1)\n",
        "trainLabels = stratTrainSet[\"Is-Spam\"]\n",
        "\n",
        "testSet = stratTestSet.drop(\"Is-Spam\", axis=1)\n",
        "testLabels = stratTestSet[\"Is-Spam\"]"
      ],
      "execution_count": 0,
      "outputs": []
    },
    {
      "cell_type": "code",
      "metadata": {
        "id": "gCHj71rAMKx9",
        "colab_type": "code",
        "outputId": "e78d0738-caeb-4b26-e62c-251f4810e40e",
        "colab": {
          "base_uri": "https://localhost:8080/",
          "height": 291
        }
      },
      "source": [
        "trainSet.info()"
      ],
      "execution_count": 10,
      "outputs": [
        {
          "output_type": "stream",
          "text": [
            "<class 'pandas.core.frame.DataFrame'>\n",
            "Int64Index: 2401 entries, 1712 to 2212\n",
            "Data columns (total 11 columns):\n",
            "Payload         2401 non-null object\n",
            "Return-Path     2395 non-null object\n",
            "Delivered-To    2265 non-null object\n",
            "Received        2285 non-null object\n",
            "From            2399 non-null object\n",
            "To              2267 non-null object\n",
            "Subject         2397 non-null object\n",
            "Content-Type    2062 non-null object\n",
            "Date            2399 non-null object\n",
            "Message-Id      2228 non-null object\n",
            "In-Reply-To     821 non-null object\n",
            "dtypes: object(11)\n",
            "memory usage: 225.1+ KB\n"
          ],
          "name": "stdout"
        }
      ]
    },
    {
      "cell_type": "code",
      "metadata": {
        "id": "-SiDGSdWuWEm",
        "colab_type": "code",
        "outputId": "19a22a45-50bf-4a2e-ee76-61fe30c400ec",
        "colab": {
          "base_uri": "https://localhost:8080/",
          "height": 120
        }
      },
      "source": [
        "droppedTrainSet = pd.DataFrame(trainSet)\n",
        "droppedTrainSet[\"In-Reply-To\"] = droppedTrainSet[\"In-Reply-To\"].fillna(0)\n",
        "\n",
        "for x in droppedTrainSet.loc[:, \"In-Reply-To\"].index:\n",
        "  if (droppedTrainSet.loc[x, \"In-Reply-To\"] != 0):\n",
        "    droppedTrainSet.loc[x, \"In-Reply-To\"] = 1\n",
        "\n",
        "droppedTrainSet[\"In-Reply-To\"].head()"
      ],
      "execution_count": 11,
      "outputs": [
        {
          "output_type": "execute_result",
          "data": {
            "text/plain": [
              "1712    1\n",
              "364     0\n",
              "2890    0\n",
              "1733    1\n",
              "178     0\n",
              "Name: In-Reply-To, dtype: object"
            ]
          },
          "metadata": {
            "tags": []
          },
          "execution_count": 11
        }
      ]
    },
    {
      "cell_type": "code",
      "metadata": {
        "id": "UYcjM9JChAaP",
        "colab_type": "code",
        "colab": {}
      },
      "source": [
        "droppedTrainSet = droppedTrainSet.drop([\"To\", \"From\",\\\n",
        "    \"Date\", \"Message-Id\", \"Received\", \"Content-Type\"], axis=1)"
      ],
      "execution_count": 0,
      "outputs": []
    },
    {
      "cell_type": "code",
      "metadata": {
        "id": "gXnwXhyYlAWs",
        "colab_type": "code",
        "outputId": "dc62e84b-98b4-4482-e998-deb009051b22",
        "colab": {
          "base_uri": "https://localhost:8080/",
          "height": 188
        }
      },
      "source": [
        "droppedTrainSet.info()"
      ],
      "execution_count": 13,
      "outputs": [
        {
          "output_type": "stream",
          "text": [
            "<class 'pandas.core.frame.DataFrame'>\n",
            "Int64Index: 2401 entries, 1712 to 2212\n",
            "Data columns (total 5 columns):\n",
            "Payload         2401 non-null object\n",
            "Return-Path     2395 non-null object\n",
            "Delivered-To    2265 non-null object\n",
            "Subject         2397 non-null object\n",
            "In-Reply-To     2401 non-null object\n",
            "dtypes: object(5)\n",
            "memory usage: 192.5+ KB\n"
          ],
          "name": "stdout"
        }
      ]
    },
    {
      "cell_type": "code",
      "metadata": {
        "id": "jrZ_wVouoYRu",
        "colab_type": "code",
        "colab": {}
      },
      "source": [
        "deliveredTo = list(set(droppedTrainSet[\"Delivered-To\"]))\n",
        "\n",
        "if (np.nan in deliveredTo):\n",
        "  nanIndex = deliveredTo.index(np.nan)\n",
        "  del deliveredTo[nanIndex]\n",
        "\n",
        "dummies = pd.get_dummies(droppedTrainSet[[\"Delivered-To\"]])\n",
        "droppedTrainSet = pd.concat([droppedTrainSet, dummies], axis=1)\n",
        "droppedTrainSet = droppedTrainSet.drop(\"Delivered-To\", axis=1)"
      ],
      "execution_count": 0,
      "outputs": []
    },
    {
      "cell_type": "code",
      "metadata": {
        "id": "rlHl6lWOo-mA",
        "colab_type": "code",
        "colab": {}
      },
      "source": [
        "dummies = pd.get_dummies(droppedTrainSet[[\"In-Reply-To\"]])\n",
        "droppedTrainSet = pd.concat([droppedTrainSet, dummies], axis=1)\n",
        "droppedTrainSet = droppedTrainSet.drop(\"In-Reply-To\", axis=1)"
      ],
      "execution_count": 0,
      "outputs": []
    },
    {
      "cell_type": "markdown",
      "metadata": {
        "id": "J0dyXZ_K4Opx",
        "colab_type": "text"
      },
      "source": [
        "### Without Considering the Payload Part in the Train Dataset"
      ]
    },
    {
      "cell_type": "code",
      "metadata": {
        "id": "IEYWEQD4nXVe",
        "colab_type": "code",
        "colab": {}
      },
      "source": [
        "# @TODO: Remove it.\n",
        "trainSetWithoutPayload = droppedTrainSet.drop([\"Payload\", \"Subject\",\\\n",
        "    \"Return-Path\"], axis=1)"
      ],
      "execution_count": 0,
      "outputs": []
    },
    {
      "cell_type": "code",
      "metadata": {
        "id": "siwq9IbInrOJ",
        "colab_type": "code",
        "outputId": "eec66a48-d75a-4b1a-8d03-941f3736e23a",
        "colab": {
          "base_uri": "https://localhost:8080/",
          "height": 291
        }
      },
      "source": [
        "trainSetWithoutPayload.info()"
      ],
      "execution_count": 17,
      "outputs": [
        {
          "output_type": "stream",
          "text": [
            "<class 'pandas.core.frame.DataFrame'>\n",
            "Int64Index: 2401 entries, 1712 to 2212\n",
            "Data columns (total 11 columns):\n",
            "Delivered-To_freebsd-bugs@freebsd.org                   2401 non-null uint8\n",
            "Delivered-To_freebsd-ports@freebsd.org                  2401 non-null uint8\n",
            "Delivered-To_freebsd-questions@freebsd.org              2401 non-null uint8\n",
            "Delivered-To_yyyy@localhost.netnoteinc.com              2401 non-null uint8\n",
            "Delivered-To_yyyy@localhost.spamassassin.taint.org      2401 non-null uint8\n",
            "Delivered-To_yyyy@spamassassin.taint.org                2401 non-null uint8\n",
            "Delivered-To_zzzz-spamtrap@sonic.spamtraps.taint.org    2401 non-null uint8\n",
            "Delivered-To_zzzz@localhost.netnoteinc.com              2401 non-null uint8\n",
            "Delivered-To_zzzz@localhost.spamassassin.taint.org      2401 non-null uint8\n",
            "In-Reply-To_0                                           2401 non-null uint8\n",
            "In-Reply-To_1                                           2401 non-null uint8\n",
            "dtypes: uint8(11)\n",
            "memory usage: 124.5 KB\n"
          ],
          "name": "stdout"
        }
      ]
    },
    {
      "cell_type": "code",
      "metadata": {
        "id": "QsnQCbMC03z5",
        "colab_type": "code",
        "outputId": "1910b8dc-e261-4ad1-e479-38424842e36f",
        "colab": {
          "base_uri": "https://localhost:8080/",
          "height": 171
        }
      },
      "source": [
        "# Fitting Random Forest Classification to the Training set\n",
        "from sklearn.ensemble import RandomForestClassifier\n",
        "classifier = RandomForestClassifier(n_estimators = 100, criterion = 'entropy',\n",
        "                              random_state = 0)\n",
        "\n",
        "# Applying k-Fold Cross Validation\n",
        "from sklearn.model_selection import cross_val_score\n",
        "accuracies = cross_val_score(estimator = classifier, X=trainSetWithoutPayload,\n",
        "                              y=trainLabels , cv = 10, scoring=\"recall\")\n",
        "print(\"Random Forest:\\n Accuracy:\", accuracies.mean(), \"+/-\", accuracies.std())\n",
        "\n",
        "classifier.fit(trainSetWithoutPayload, trainLabels)"
      ],
      "execution_count": 18,
      "outputs": [
        {
          "output_type": "stream",
          "text": [
            "Random Forest:\n",
            " Accuracy: 0.9400609756097561 +/- 0.049033679801823896\n"
          ],
          "name": "stdout"
        },
        {
          "output_type": "execute_result",
          "data": {
            "text/plain": [
              "RandomForestClassifier(bootstrap=True, class_weight=None, criterion='entropy',\n",
              "                       max_depth=None, max_features='auto', max_leaf_nodes=None,\n",
              "                       min_impurity_decrease=0.0, min_impurity_split=None,\n",
              "                       min_samples_leaf=1, min_samples_split=2,\n",
              "                       min_weight_fraction_leaf=0.0, n_estimators=100,\n",
              "                       n_jobs=None, oob_score=False, random_state=0, verbose=0,\n",
              "                       warm_start=False)"
            ]
          },
          "metadata": {
            "tags": []
          },
          "execution_count": 18
        }
      ]
    },
    {
      "cell_type": "markdown",
      "metadata": {
        "id": "KVgEnNRW6J0b",
        "colab_type": "text"
      },
      "source": [
        "## Prepare Test Dataset"
      ]
    },
    {
      "cell_type": "code",
      "metadata": {
        "id": "PaXzJIpj1dd0",
        "colab_type": "code",
        "colab": {}
      },
      "source": [
        "droppedTestSet = testSet.drop([\"To\", \"From\",\\\n",
        "    \"Date\", \"Message-Id\", \"Received\", \"Content-Type\"], axis=1)"
      ],
      "execution_count": 0,
      "outputs": []
    },
    {
      "cell_type": "code",
      "metadata": {
        "id": "TKbhHaCF5p8b",
        "colab_type": "code",
        "colab": {
          "base_uri": "https://localhost:8080/",
          "height": 137
        },
        "outputId": "29fb8a78-4ddd-467d-946f-c7bb358b8a3d"
      },
      "source": [
        "droppedTestSet = droppedTestSet.drop([\"Payload\", \"Subject\",\\\n",
        "    \"Return-Path\"], axis=1)\n",
        "\n",
        "droppedTestSet.info()"
      ],
      "execution_count": 20,
      "outputs": [
        {
          "output_type": "stream",
          "text": [
            "<class 'pandas.core.frame.DataFrame'>\n",
            "Int64Index: 601 entries, 148 to 2104\n",
            "Data columns (total 2 columns):\n",
            "Delivered-To    574 non-null object\n",
            "In-Reply-To     198 non-null object\n",
            "dtypes: object(2)\n",
            "memory usage: 14.1+ KB\n"
          ],
          "name": "stdout"
        }
      ]
    },
    {
      "cell_type": "code",
      "metadata": {
        "id": "iBs7yL9lk5wg",
        "colab_type": "code",
        "colab": {}
      },
      "source": [
        "shouldBeConcat = {}\n",
        "\n",
        "for x in deliveredTo:\n",
        "  shouldBeConcat[\"Delivered-To_\" + x] = []\n",
        "\n",
        "shouldBeConcat[\"In-Reply-To_0\"] = []\n",
        "shouldBeConcat[\"In-Reply-To_1\"] = []"
      ],
      "execution_count": 0,
      "outputs": []
    },
    {
      "cell_type": "code",
      "metadata": {
        "id": "NTkBXm4rvKX-",
        "colab_type": "code",
        "colab": {}
      },
      "source": [
        "for x in droppedTestSet[\"Delivered-To\"]:\n",
        "  for y in deliveredTo:\n",
        "    if (x == y):\n",
        "      shouldBeConcat[\"Delivered-To_\" + y].append(1)\n",
        "    else:\n",
        "      shouldBeConcat[\"Delivered-To_\" + y].append(0)"
      ],
      "execution_count": 0,
      "outputs": []
    },
    {
      "cell_type": "code",
      "metadata": {
        "id": "Qpp6w7TH2jpc",
        "colab_type": "code",
        "colab": {}
      },
      "source": [
        "droppedTestSet[\"In-Reply-To\"] = droppedTestSet[\"In-Reply-To\"].fillna('0')\n",
        "\n",
        "for x in droppedTestSet.loc[:, \"In-Reply-To\"].index:\n",
        "  if (droppedTestSet.loc[x, \"In-Reply-To\"] == '0'):\n",
        "    shouldBeConcat[\"In-Reply-To_0\"].append(1)\n",
        "    shouldBeConcat[\"In-Reply-To_1\"].append(0)\n",
        "  else:\n",
        "    shouldBeConcat[\"In-Reply-To_0\"].append(0)\n",
        "    shouldBeConcat[\"In-Reply-To_1\"].append(1)\n",
        "\n",
        "droppedTestSet = pd.DataFrame(shouldBeConcat)"
      ],
      "execution_count": 0,
      "outputs": []
    },
    {
      "cell_type": "code",
      "metadata": {
        "id": "zpFfUJiR3G64",
        "colab_type": "code",
        "outputId": "faa2d2f7-d78d-40a8-8135-afa517913726",
        "colab": {
          "base_uri": "https://localhost:8080/",
          "height": 291
        }
      },
      "source": [
        "droppedTestSet.info()"
      ],
      "execution_count": 24,
      "outputs": [
        {
          "output_type": "stream",
          "text": [
            "<class 'pandas.core.frame.DataFrame'>\n",
            "RangeIndex: 601 entries, 0 to 600\n",
            "Data columns (total 11 columns):\n",
            "Delivered-To_freebsd-bugs@freebsd.org                   601 non-null int64\n",
            "Delivered-To_zzzz-spamtrap@sonic.spamtraps.taint.org    601 non-null int64\n",
            "Delivered-To_zzzz@localhost.netnoteinc.com              601 non-null int64\n",
            "Delivered-To_yyyy@spamassassin.taint.org                601 non-null int64\n",
            "Delivered-To_yyyy@localhost.netnoteinc.com              601 non-null int64\n",
            "Delivered-To_freebsd-ports@freebsd.org                  601 non-null int64\n",
            "Delivered-To_zzzz@localhost.spamassassin.taint.org      601 non-null int64\n",
            "Delivered-To_yyyy@localhost.spamassassin.taint.org      601 non-null int64\n",
            "Delivered-To_freebsd-questions@freebsd.org              601 non-null int64\n",
            "In-Reply-To_0                                           601 non-null int64\n",
            "In-Reply-To_1                                           601 non-null int64\n",
            "dtypes: int64(11)\n",
            "memory usage: 51.7 KB\n"
          ],
          "name": "stdout"
        }
      ]
    },
    {
      "cell_type": "markdown",
      "metadata": {
        "id": "bD1-gxrn6Uqd",
        "colab_type": "text"
      },
      "source": [
        "### Without Considering the Payload in the Test Dataset"
      ]
    },
    {
      "cell_type": "code",
      "metadata": {
        "id": "XftP51LEjgwN",
        "colab_type": "code",
        "outputId": "210b9ff7-dc38-4d25-a495-b25c5a5a8f6a",
        "colab": {
          "base_uri": "https://localhost:8080/",
          "height": 34
        }
      },
      "source": [
        "y_pred = classifier.predict(droppedTestSet)\n",
        "n_correct = sum(y_pred == testLabels)\n",
        "print(n_correct / len(y_pred))"
      ],
      "execution_count": 25,
      "outputs": [
        {
          "output_type": "stream",
          "text": [
            "0.9351081530782029\n"
          ],
          "name": "stdout"
        }
      ]
    },
    {
      "cell_type": "markdown",
      "metadata": {
        "id": "4BJDANa33Ktw",
        "colab_type": "text"
      },
      "source": [
        "## Considering the Payload Words"
      ]
    },
    {
      "cell_type": "code",
      "metadata": {
        "id": "0jHRkzpO3XmA",
        "colab_type": "code",
        "colab": {
          "base_uri": "https://localhost:8080/",
          "height": 343
        },
        "outputId": "63b25c68-9961-4ec7-ade4-c3406eab4d8d"
      },
      "source": [
        "droppedTrainSet.info()"
      ],
      "execution_count": 26,
      "outputs": [
        {
          "output_type": "stream",
          "text": [
            "<class 'pandas.core.frame.DataFrame'>\n",
            "Int64Index: 2401 entries, 1712 to 2212\n",
            "Data columns (total 14 columns):\n",
            "Payload                                                 2401 non-null object\n",
            "Return-Path                                             2395 non-null object\n",
            "Subject                                                 2397 non-null object\n",
            "Delivered-To_freebsd-bugs@freebsd.org                   2401 non-null uint8\n",
            "Delivered-To_freebsd-ports@freebsd.org                  2401 non-null uint8\n",
            "Delivered-To_freebsd-questions@freebsd.org              2401 non-null uint8\n",
            "Delivered-To_yyyy@localhost.netnoteinc.com              2401 non-null uint8\n",
            "Delivered-To_yyyy@localhost.spamassassin.taint.org      2401 non-null uint8\n",
            "Delivered-To_yyyy@spamassassin.taint.org                2401 non-null uint8\n",
            "Delivered-To_zzzz-spamtrap@sonic.spamtraps.taint.org    2401 non-null uint8\n",
            "Delivered-To_zzzz@localhost.netnoteinc.com              2401 non-null uint8\n",
            "Delivered-To_zzzz@localhost.spamassassin.taint.org      2401 non-null uint8\n",
            "In-Reply-To_0                                           2401 non-null uint8\n",
            "In-Reply-To_1                                           2401 non-null uint8\n",
            "dtypes: object(3), uint8(11)\n",
            "memory usage: 180.8+ KB\n"
          ],
          "name": "stdout"
        }
      ]
    },
    {
      "cell_type": "code",
      "metadata": {
        "id": "7aPCJMAf4EFj",
        "colab_type": "code",
        "colab": {
          "base_uri": "https://localhost:8080/",
          "height": 291
        },
        "outputId": "33b17f93-9012-4806-efca-9ef1fca5e05b"
      },
      "source": [
        "droppedTestSet.info()"
      ],
      "execution_count": 27,
      "outputs": [
        {
          "output_type": "stream",
          "text": [
            "<class 'pandas.core.frame.DataFrame'>\n",
            "RangeIndex: 601 entries, 0 to 600\n",
            "Data columns (total 11 columns):\n",
            "Delivered-To_freebsd-bugs@freebsd.org                   601 non-null int64\n",
            "Delivered-To_zzzz-spamtrap@sonic.spamtraps.taint.org    601 non-null int64\n",
            "Delivered-To_zzzz@localhost.netnoteinc.com              601 non-null int64\n",
            "Delivered-To_yyyy@spamassassin.taint.org                601 non-null int64\n",
            "Delivered-To_yyyy@localhost.netnoteinc.com              601 non-null int64\n",
            "Delivered-To_freebsd-ports@freebsd.org                  601 non-null int64\n",
            "Delivered-To_zzzz@localhost.spamassassin.taint.org      601 non-null int64\n",
            "Delivered-To_yyyy@localhost.spamassassin.taint.org      601 non-null int64\n",
            "Delivered-To_freebsd-questions@freebsd.org              601 non-null int64\n",
            "In-Reply-To_0                                           601 non-null int64\n",
            "In-Reply-To_1                                           601 non-null int64\n",
            "dtypes: int64(11)\n",
            "memory usage: 51.7 KB\n"
          ],
          "name": "stdout"
        }
      ]
    },
    {
      "cell_type": "code",
      "metadata": {
        "id": "q0ZGfj6N6_GW",
        "colab_type": "code",
        "colab": {}
      },
      "source": [
        ""
      ],
      "execution_count": 0,
      "outputs": []
    }
  ]
}